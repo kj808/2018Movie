{
 "cells": [
  {
   "cell_type": "markdown",
   "metadata": {},
   "source": [
    "# Weekend Movie Trip\n",
    "\n",
    "### Introduction\n",
    "A variety of movies exist and with today's technology, it is easier to binge watch movies catered towards personal tastes. With this knowledge of different genres, tags and ratings, is it possible to cluster similar movies? Specifically, Kmeans and DBScan are used for this feat."
   ]
  },
  {
   "cell_type": "code",
   "execution_count": 1,
   "metadata": {},
   "outputs": [],
   "source": [
    "#Import libraries\n",
    "import pandas as pd\n",
    "import numpy as np\n",
    "from sklearn import preprocessing\n",
    "import matplotlib.pyplot as plt\n",
    "from sklearn.cluster import KMeans # KMEANS clustering\n",
    "from sklearn.cluster import DBSCAN # DBSCAN clustering\n",
    "\n",
    "#Import datasets\n",
    "genreSrc=pd.read_csv('../data/external/movies.csv')\n",
    "ratingSrc=pd.read_csv('../data/external/ratings.csv')\n",
    "tagSrc=pd.read_csv('../data/external/tags.csv')"
   ]
  },
  {
   "cell_type": "markdown",
   "metadata": {},
   "source": [
    "## Cleaning Dataset\n",
    "\n",
    "Four features will be taken into account such as movie tag, ratings, years and genres for all movie IDs. By viewing the datasets in Google facets, the separate sets do not contain NaN values.\n",
    "\n",
    "## Transforming Dataset\n",
    "With the four features in mind, feature selection occurs. First, all user IDs are dropped as recommendations of movies occur based on other movies. Second, timestamps are dropped due to dependence on users and is irrelvant in terms of movie similarity.\n"
   ]
  },
  {
   "cell_type": "code",
   "execution_count": 2,
   "metadata": {},
   "outputs": [],
   "source": [
    "#----------9742=genreSrc ----------\n",
    "#NEED TO DROP TITLES\n",
    "#Genre data set requires extraction of year and dropping of Title\n",
    "Year=genreSrc.title.str.extract(r'([a-zA-Z0-9].*)([^(])\\(([0-9]*)\\)')\n",
    "Year.columns=['title', 'blank', 'year']\n",
    "\n",
    "#Drop columns before merge\n",
    "genreSrc=genreSrc.drop(columns=['title'])\n",
    "Year=Year.drop(columns=['title', 'blank'])\n",
    "\n",
    "genreSrc=genreSrc.merge(Year,left_index=True,right_index=True)\n",
    "\n",
    "\n",
    "#----------100836=ratingSrc ----------\n",
    "#NEED TO DROP USERID, TIMESTAMP\n",
    "#Future ideas...(should take mean for each movie :3) \n",
    "ratingSrc=ratingSrc.drop(columns=['userId','timestamp'])\n",
    "\n",
    "\n",
    "#----------3683=tagSrc ----------\n",
    "#NEED TO DROP USERID AND TIMESTAMP\n",
    "tagSrc=tagSrc.drop(columns=['userId','timestamp'])"
   ]
  },
  {
   "cell_type": "markdown",
   "metadata": {},
   "source": [
    "## Data Modeling\n",
    "Currently, feature selection already occured in transformation of data. However, the datasets needs combining and altered to numerical data for machine learning algorithms.\n",
    "\n",
    "First, the mean is determined by the rating set for each movie. Second, tags are combined into an array for the same movies."
   ]
  },
  {
   "cell_type": "code",
   "execution_count": 3,
   "metadata": {},
   "outputs": [],
   "source": [
    "#----------Create mean rating for each movie----------\n",
    "ratingSrc=ratingSrc.groupby('movieId')['rating'].mean().to_frame()\n",
    "\n",
    "#Join with genre dataframe\n",
    "genreSrc=genreSrc.merge(ratingSrc,on='movieId', how='left')\n",
    "\n",
    "#----------Create an count of tags----------\n",
    "#Group repeated tags based on movie ID\n",
    "tagSrc=tagSrc.sort_values(by=['movieId'])\n",
    "\n",
    "#Count of tags based on movie\n",
    "tagTotal=tagSrc.groupby(['movieId']).tag.value_counts().to_frame().rename(columns={'tag':'tagCount'})\n",
    "\n",
    "#Merge with genre such that movies can have multiple tags\n",
    "#Separate genres into an array\n",
    "genreSrc['genres']=genreSrc['genres'].str.strip().str.split('[^A-Za-z-]+')\n",
    "\n",
    "#place all genres separately and into a new dataframe\n",
    "rows=list()\n",
    "for row in genreSrc[['movieId','genres']].iterrows():\n",
    "    r=row[1]\n",
    "    for genre in r.genres:\n",
    "        rows.append((r['movieId'], genre))\n",
    "\n",
    "genreDoc=pd.DataFrame(rows, columns=['movieId', 'genres'])\n",
    "\n",
    "#Creates count for each genre according to movieId\n",
    "gDocGroup=genreDoc.groupby(['movieId']).genres.value_counts().to_frame().rename(columns={'genres':'gc'})\n",
    "\n",
    "\n",
    "#-------Alter Genres to represent bag of words-----------------\n",
    "gDocGroup=gDocGroup.reset_index()\n",
    "gDocGroup=gDocGroup.pivot(index='movieId', columns='genres', values='gc')\n",
    "\n",
    "gDocGroup=gDocGroup.fillna(value=0)\n",
    "\n",
    "#Drop incorrectly captured genres\n",
    "gDocGroup=gDocGroup.drop(columns=['genres','listed','no',''])\n",
    "\n",
    "#-------Alter tags to represent bag of words-----------------\n",
    "tagTotal=tagTotal.reset_index()\n",
    "tagTotal=tagTotal.pivot(index='movieId',columns='tag',values='tagCount')\n",
    "tagTotal=tagTotal.fillna(value=0)\n",
    "\n",
    "#-------Combine the two-----------------\n",
    "final=gDocGroup.merge(tagTotal, how='left', left_on='movieId', right_on='movieId')\n",
    "\n",
    "#--------Add years and ratings-----------\n",
    "#Insert year and rating to beginning\n",
    "final.insert(0, 'year', Year['year'])\n",
    "final.insert(1, 'rating', ratingSrc['rating'])\n",
    "\n",
    "\n",
    "#Finalize\n",
    "final=final.fillna(value=0)\n",
    "final['year']=final['year'].astype(int)\n",
    "final['rating']=final['rating'].astype(int)\n",
    "\n",
    "#--------Output to internal-------------\n",
    "final.to_csv('../data/internal/diction.csv')\n"
   ]
  },
  {
   "cell_type": "markdown",
   "metadata": {},
   "source": [
    "## Clustering Models\n",
    "Two models are compared. The first is K-mean to understand different clustering patterns and numbers. The other is DBScan to see how many clusters are detected."
   ]
  },
  {
   "cell_type": "code",
   "execution_count": null,
   "metadata": {},
   "outputs": [],
   "source": [
    "#--------Setting up for clustering-------------\n",
    "#Place into an array\n",
    "feature_matrix = final.values\n",
    "\n",
    "#Attach KMEANS\n",
    "kclustering=KMeans(n_clusters=4)\n",
    "kclustering.fit(X=feature_matrix)\n",
    "y_kmeans=kclustering.predict(feature_matrix)\n",
    "\n",
    "#Attach DBSCAN\n",
    "DBclustering=DBSCAN(eps=3, min_samples=2).fit(feature_matrix)\n",
    "y_DBclustering=DBclustering.fit_predict(feature_matrix)"
   ]
  },
  {
   "cell_type": "markdown",
   "metadata": {},
   "source": [
    "## Analysis\n",
    "The two clustering models used were K-means and DBScan. \n",
    "\n",
    "#### K-means\n",
    "Given the number of clusters, this algorithm attempts to define such. This is defined using centroids by locating the centers of the data based on distance measurements. With the movie data, the numbers are based on ratings, years and number of genres and tags. By clustering the same genres and year types as well as ratings. \n",
    "\n",
    "Looking at the graph, it is difficult to understand the type of clustering as one can see similar years and ratings are clustered together. However, the other many columns of genres and tags cannot be well graphed as these are set as \"on-or-off\". This is difficult to represent graphically. One instance that could be changing the type to frequency of the tag thus a better gradient occurs across one \"tag\" column. Lastly, the difference in years also shows a difference in clustering as some movies did not contain a year thus it was set to 0. \n"
   ]
  },
  {
   "cell_type": "code",
   "execution_count": null,
   "metadata": {},
   "outputs": [],
   "source": [
    "#-------------KMEANS nice-----------------\n",
    "plt.scatter(feature_matrix[:, 0], feature_matrix[:, 1], c=y_kmeans, s=50, cmap='viridis')"
   ]
  },
  {
   "cell_type": "markdown",
   "metadata": {},
   "source": [
    "#### DBSCAN\n",
    "DBScan clusters based on density. Density is measured through distance between points. Unlike K-means, this algorithm determines the number of clusters. \n",
    "\n",
    "Similar to Kmeans, the data is not set well concerning the text as the values are binary. Movies in year 0 seem to be one large cluster while the other documented years create 2 clusters. "
   ]
  },
  {
   "cell_type": "code",
   "execution_count": null,
   "metadata": {},
   "outputs": [],
   "source": [
    "plt.scatter(feature_matrix[:, 0], feature_matrix[:, 1], c=y_DBclustering, s=50, cmap='viridis')"
   ]
  },
  {
   "cell_type": "markdown",
   "metadata": {},
   "source": [
    "## Conclusion\n",
    "Based on the data setup, it is difficult to understand the results. Genres and tags are split into multiple columns and contain binary data for each instance. With the variety of columns, plotting is difficult to understand. In terms of algorithms, Kmeans is set to four clusters based on DBScan's output of 3 clusters. All in all, altering the input data will assist with better understandable output.\n",
    "\n",
    "\n",
    "## References\n",
    "\n",
    "\n",
    "https://medium.com/mlreview/topic-modeling-with-scikit-learn-e80d33668730\n",
    "    \n",
    "https://towardsdatascience.com/topic-modeling-and-latent-dirichlet-allocation-in-python-9bf156893c24\n",
    "\n",
    "https://jakevdp.github.io/PythonDataScienceHandbook/05.11-k-means.html\n",
    "\n",
    "https://stackoverflow.com/questions/34579213/dbscan-for-clustering-of-geographic-location-data"
   ]
  }
 ],
 "metadata": {
  "kernelspec": {
   "display_name": "Python 3",
   "language": "python",
   "name": "python3"
  },
  "language_info": {
   "codemirror_mode": {
    "name": "ipython",
    "version": 3
   },
   "file_extension": ".py",
   "mimetype": "text/x-python",
   "name": "python",
   "nbconvert_exporter": "python",
   "pygments_lexer": "ipython3",
   "version": "3.6.5"
  }
 },
 "nbformat": 4,
 "nbformat_minor": 2
}
